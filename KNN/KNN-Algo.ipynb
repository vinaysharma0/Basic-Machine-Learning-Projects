{
 "cells": [
  {
   "cell_type": "code",
   "execution_count": 1,
   "metadata": {},
   "outputs": [],
   "source": [
    "from collections import Counter\n",
    "import math"
   ]
  },
  {
   "cell_type": "code",
   "execution_count": 14,
   "metadata": {},
   "outputs": [],
   "source": [
    "def knn(data, query, k, dist_fn, choice_fn):\n",
    "    neighbor_dist_and_indices = []\n",
    "    for i, example in enumerate(data):\n",
    "        distance = dist_fn(example[:-1], query)\n",
    "        neighbor_dist_and_indices.append((distance, i))\n",
    "        \n",
    "    print('dist&indices : ',neighbor_dist_and_indices)\n",
    "    sorted_neighbor_dist_and_indices = sorted(neighbor_dist_and_indices)\n",
    "    \n",
    "    k_nearest_neighbor_dist_and_indices = sorted_neighbor_dist_and_indices[:k]\n",
    "    print('sorted k = 3 : ', k_nearest_neighbor_dist_and_indices)\n",
    "    k_entries_labels = [data[i][1] for distance, i in k_nearest_neighbor_dist_and_indices]\n",
    "    print('k_entries_labels',k_entries_labels)\n",
    "    \n",
    "    return k_nearest_neighbor_dist_and_indices, choice_fn(k_entries_labels)\n",
    "\n",
    "\n",
    "# mean is selected as choice_fn , if regression\n",
    "def mean(labels):\n",
    "    return sum(labels)/len(labels)\n",
    "\n",
    "\n",
    "# mode is selected as choice_fn , if classification\n",
    "def mode(labels):\n",
    "\treturn Counter(labels).most_common(1)[0][0]\n",
    "\n",
    "\n",
    "def euclidean_dist(p1, p2):\n",
    "\tsum_sq_dist = 0\n",
    "\tfor i in range(len(p1)):\n",
    "\t\tsum_sq_dist += math.pow(p1[i] - p2[i], 2)\n",
    "\treturn math.sqrt(sum_sq_dist)\n"
   ]
  },
  {
   "cell_type": "code",
   "execution_count": 15,
   "metadata": {},
   "outputs": [],
   "source": [
    "def main():\n",
    "\t'''\n",
    "    # Regression Data\n",
    "    # \n",
    "    # Column 0: height (inches)\n",
    "    # Column 1: weight (pounds)\n",
    "    '''\n",
    "\n",
    "\treg_data = [\n",
    "        [65.75, 112.99],\n",
    "        [71.52, 136.49],\n",
    "        [69.40, 153.03],\n",
    "        [68.22, 142.34],\n",
    "        [67.79, 144.30],\n",
    "        [68.70, 123.30],\n",
    "        [69.80, 141.49],\n",
    "        [70.01, 136.46],\n",
    "        [67.90, 112.37],\n",
    "        [66.49, 127.45],\n",
    "    ]\n",
    "\n",
    "\treg_query = [60]\n",
    "\n",
    "\treg_k_nearest_neighbors, reg_pred = knn(reg_data, reg_query, k =3 , dist_fn = euclidean_dist, choice_fn = mean)\n",
    "\n",
    "\tprint('reg_k_nearest_neighbors : {}, reg_pred : {}'.format(reg_k_nearest_neighbors, reg_pred))\n",
    "\n",
    "\tclf_data = [\n",
    "\t    [22, 1],\n",
    "        [23, 1],\n",
    "        [21, 1],\n",
    "        [18, 1],\n",
    "        [19, 1],\n",
    "        [25, 0],\n",
    "        [27, 0],\n",
    "        [29, 0],\n",
    "        [31, 0],\n",
    "        [45, 0],\n",
    "\t]\n",
    "\n",
    "\tclf_query = [33]\n",
    "\n",
    "\tclf_k_nearest_neighbors, clf_pred = knn(clf_data, clf_query, k=3, dist_fn=euclidean_dist, choice_fn=mode)\n",
    "\n",
    "\tprint('clf_k_nearest_neighbors : {}, clf_pred : {}'.format(clf_k_nearest_neighbors, clf_pred))\n"
   ]
  },
  {
   "cell_type": "code",
   "execution_count": 16,
   "metadata": {},
   "outputs": [
    {
     "name": "stdout",
     "output_type": "stream",
     "text": [
      "dist&indices :  [(5.75, 0), (11.519999999999996, 1), (9.400000000000006, 2), (8.219999999999999, 3), (7.790000000000006, 4), (8.700000000000003, 5), (9.799999999999997, 6), (10.010000000000005, 7), (7.900000000000006, 8), (6.489999999999995, 9)]\n",
      "sorted k = 3 :  [(5.75, 0), (6.489999999999995, 9), (7.790000000000006, 4)]\n",
      "k_entries_labels [112.99, 127.45, 144.3]\n",
      "reg_k_nearest_neighbors : [(5.75, 0), (6.489999999999995, 9), (7.790000000000006, 4)], reg_pred : 128.24666666666667\n",
      "dist&indices :  [(11.0, 0), (10.0, 1), (12.0, 2), (15.0, 3), (14.0, 4), (8.0, 5), (6.0, 6), (4.0, 7), (2.0, 8), (12.0, 9)]\n",
      "sorted k = 3 :  [(2.0, 8), (4.0, 7), (6.0, 6)]\n",
      "k_entries_labels [0, 0, 0]\n",
      "clf_k_nearest_neighbors : [(2.0, 8), (4.0, 7), (6.0, 6)], clf_pred : 0\n"
     ]
    }
   ],
   "source": [
    "\tif __name__ == '__main__':\n",
    "\t\tmain()\n"
   ]
  },
  {
   "cell_type": "code",
   "execution_count": null,
   "metadata": {},
   "outputs": [],
   "source": []
  },
  {
   "cell_type": "code",
   "execution_count": null,
   "metadata": {},
   "outputs": [],
   "source": []
  }
 ],
 "metadata": {
  "kernelspec": {
   "display_name": "Python 3",
   "language": "python",
   "name": "python3"
  },
  "language_info": {
   "codemirror_mode": {
    "name": "ipython",
    "version": 3
   },
   "file_extension": ".py",
   "mimetype": "text/x-python",
   "name": "python",
   "nbconvert_exporter": "python",
   "pygments_lexer": "ipython3",
   "version": "3.7.6"
  }
 },
 "nbformat": 4,
 "nbformat_minor": 4
}
